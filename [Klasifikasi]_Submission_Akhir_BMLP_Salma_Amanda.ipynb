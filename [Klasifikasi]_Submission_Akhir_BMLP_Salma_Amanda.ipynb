{
  "nbformat": 4,
  "nbformat_minor": 0,
  "metadata": {
    "colab": {
      "provenance": []
    },
    "kernelspec": {
      "name": "python3",
      "display_name": "Python 3"
    },
    "language_info": {
      "name": "python"
    }
  },
  "cells": [
    {
      "cell_type": "markdown",
      "source": [
        "# **1. Import Library**"
      ],
      "metadata": {
        "id": "fKADPWcFKlj3"
      }
    },
    {
      "cell_type": "markdown",
      "source": [
        "Pada tahap ini, Anda perlu mengimpor beberapa pustaka (library) Python yang dibutuhkan untuk analisis data dan pembangunan model machine learning."
      ],
      "metadata": {
        "id": "LgA3ERnVn84N"
      }
    },
    {
      "cell_type": "code",
      "source": [
        "import pandas as pd\n",
        "import numpy as np\n",
        "import seaborn as sns\n",
        "import matplotlib.pyplot as plt\n",
        "from sklearn.model_selection import train_test_split\n",
        "from sklearn.ensemble import RandomForestClassifier\n",
        "from sklearn.naive_bayes import GaussianNB\n",
        "from sklearn.metrics import confusion_matrix, accuracy_score, precision_score, recall_score, f1_score\n",
        "from sklearn.model_selection import RandomizedSearchCV\n",
        "from sklearn.model_selection import learning_curve"
      ],
      "metadata": {
        "id": "BlmvjLY9M4Yj"
      },
      "execution_count": 39,
      "outputs": []
    },
    {
      "cell_type": "markdown",
      "source": [
        "# **2. Memuat Dataset dari Hasil Clustering**"
      ],
      "metadata": {
        "id": "f3YIEnAFKrKL"
      }
    },
    {
      "cell_type": "markdown",
      "source": [
        "Memuat dataset hasil clustering dari file CSV ke dalam variabel DataFrame."
      ],
      "metadata": {
        "id": "Ey3ItwTen_7E"
      }
    },
    {
      "cell_type": "code",
      "source": [
        "# Membaca dataset\n",
        "df = pd.read_csv(\"/content/data_klasifikasi.csv\")\n",
        "df"
      ],
      "metadata": {
        "id": "GHCGNTyrM5fS",
        "colab": {
          "base_uri": "https://localhost:8080/",
          "height": 423
        },
        "outputId": "9e925127-c3e5-43b6-912e-179200625b00"
      },
      "execution_count": 40,
      "outputs": [
        {
          "output_type": "execute_result",
          "data": {
            "text/plain": [
              "            lat       lon     depth       mag  remark  cluster\n",
              "0      0.169022  0.590349  0.010695  0.321429     566        1\n",
              "1      0.126620  0.626488  0.098930  0.410714     232        0\n",
              "2      0.436396  0.962816  0.013369  0.482143     149        0\n",
              "3      0.174912  0.589722  0.010695  0.428571     566        1\n",
              "4      0.174323  0.590558  0.010695  0.339286     566        1\n",
              "...         ...       ...       ...       ...     ...      ...\n",
              "10844  0.739694  0.631711  0.304813  0.535714     901        2\n",
              "10845  0.866313  0.073950  0.010695  0.410714     889        2\n",
              "10846  0.668433  0.582620  0.220588  0.285714     901        2\n",
              "10847  0.118963  0.473783  0.014706  0.267857     766        1\n",
              "10848  0.952297  0.016503  0.026738  0.428571     889        2\n",
              "\n",
              "[10849 rows x 6 columns]"
            ],
            "text/html": [
              "\n",
              "  <div id=\"df-09eff585-d0ff-401f-8ac5-7b91698ba364\" class=\"colab-df-container\">\n",
              "    <div>\n",
              "<style scoped>\n",
              "    .dataframe tbody tr th:only-of-type {\n",
              "        vertical-align: middle;\n",
              "    }\n",
              "\n",
              "    .dataframe tbody tr th {\n",
              "        vertical-align: top;\n",
              "    }\n",
              "\n",
              "    .dataframe thead th {\n",
              "        text-align: right;\n",
              "    }\n",
              "</style>\n",
              "<table border=\"1\" class=\"dataframe\">\n",
              "  <thead>\n",
              "    <tr style=\"text-align: right;\">\n",
              "      <th></th>\n",
              "      <th>lat</th>\n",
              "      <th>lon</th>\n",
              "      <th>depth</th>\n",
              "      <th>mag</th>\n",
              "      <th>remark</th>\n",
              "      <th>cluster</th>\n",
              "    </tr>\n",
              "  </thead>\n",
              "  <tbody>\n",
              "    <tr>\n",
              "      <th>0</th>\n",
              "      <td>0.169022</td>\n",
              "      <td>0.590349</td>\n",
              "      <td>0.010695</td>\n",
              "      <td>0.321429</td>\n",
              "      <td>566</td>\n",
              "      <td>1</td>\n",
              "    </tr>\n",
              "    <tr>\n",
              "      <th>1</th>\n",
              "      <td>0.126620</td>\n",
              "      <td>0.626488</td>\n",
              "      <td>0.098930</td>\n",
              "      <td>0.410714</td>\n",
              "      <td>232</td>\n",
              "      <td>0</td>\n",
              "    </tr>\n",
              "    <tr>\n",
              "      <th>2</th>\n",
              "      <td>0.436396</td>\n",
              "      <td>0.962816</td>\n",
              "      <td>0.013369</td>\n",
              "      <td>0.482143</td>\n",
              "      <td>149</td>\n",
              "      <td>0</td>\n",
              "    </tr>\n",
              "    <tr>\n",
              "      <th>3</th>\n",
              "      <td>0.174912</td>\n",
              "      <td>0.589722</td>\n",
              "      <td>0.010695</td>\n",
              "      <td>0.428571</td>\n",
              "      <td>566</td>\n",
              "      <td>1</td>\n",
              "    </tr>\n",
              "    <tr>\n",
              "      <th>4</th>\n",
              "      <td>0.174323</td>\n",
              "      <td>0.590558</td>\n",
              "      <td>0.010695</td>\n",
              "      <td>0.339286</td>\n",
              "      <td>566</td>\n",
              "      <td>1</td>\n",
              "    </tr>\n",
              "    <tr>\n",
              "      <th>...</th>\n",
              "      <td>...</td>\n",
              "      <td>...</td>\n",
              "      <td>...</td>\n",
              "      <td>...</td>\n",
              "      <td>...</td>\n",
              "      <td>...</td>\n",
              "    </tr>\n",
              "    <tr>\n",
              "      <th>10844</th>\n",
              "      <td>0.739694</td>\n",
              "      <td>0.631711</td>\n",
              "      <td>0.304813</td>\n",
              "      <td>0.535714</td>\n",
              "      <td>901</td>\n",
              "      <td>2</td>\n",
              "    </tr>\n",
              "    <tr>\n",
              "      <th>10845</th>\n",
              "      <td>0.866313</td>\n",
              "      <td>0.073950</td>\n",
              "      <td>0.010695</td>\n",
              "      <td>0.410714</td>\n",
              "      <td>889</td>\n",
              "      <td>2</td>\n",
              "    </tr>\n",
              "    <tr>\n",
              "      <th>10846</th>\n",
              "      <td>0.668433</td>\n",
              "      <td>0.582620</td>\n",
              "      <td>0.220588</td>\n",
              "      <td>0.285714</td>\n",
              "      <td>901</td>\n",
              "      <td>2</td>\n",
              "    </tr>\n",
              "    <tr>\n",
              "      <th>10847</th>\n",
              "      <td>0.118963</td>\n",
              "      <td>0.473783</td>\n",
              "      <td>0.014706</td>\n",
              "      <td>0.267857</td>\n",
              "      <td>766</td>\n",
              "      <td>1</td>\n",
              "    </tr>\n",
              "    <tr>\n",
              "      <th>10848</th>\n",
              "      <td>0.952297</td>\n",
              "      <td>0.016503</td>\n",
              "      <td>0.026738</td>\n",
              "      <td>0.428571</td>\n",
              "      <td>889</td>\n",
              "      <td>2</td>\n",
              "    </tr>\n",
              "  </tbody>\n",
              "</table>\n",
              "<p>10849 rows × 6 columns</p>\n",
              "</div>\n",
              "    <div class=\"colab-df-buttons\">\n",
              "\n",
              "  <div class=\"colab-df-container\">\n",
              "    <button class=\"colab-df-convert\" onclick=\"convertToInteractive('df-09eff585-d0ff-401f-8ac5-7b91698ba364')\"\n",
              "            title=\"Convert this dataframe to an interactive table.\"\n",
              "            style=\"display:none;\">\n",
              "\n",
              "  <svg xmlns=\"http://www.w3.org/2000/svg\" height=\"24px\" viewBox=\"0 -960 960 960\">\n",
              "    <path d=\"M120-120v-720h720v720H120Zm60-500h600v-160H180v160Zm220 220h160v-160H400v160Zm0 220h160v-160H400v160ZM180-400h160v-160H180v160Zm440 0h160v-160H620v160ZM180-180h160v-160H180v160Zm440 0h160v-160H620v160Z\"/>\n",
              "  </svg>\n",
              "    </button>\n",
              "\n",
              "  <style>\n",
              "    .colab-df-container {\n",
              "      display:flex;\n",
              "      gap: 12px;\n",
              "    }\n",
              "\n",
              "    .colab-df-convert {\n",
              "      background-color: #E8F0FE;\n",
              "      border: none;\n",
              "      border-radius: 50%;\n",
              "      cursor: pointer;\n",
              "      display: none;\n",
              "      fill: #1967D2;\n",
              "      height: 32px;\n",
              "      padding: 0 0 0 0;\n",
              "      width: 32px;\n",
              "    }\n",
              "\n",
              "    .colab-df-convert:hover {\n",
              "      background-color: #E2EBFA;\n",
              "      box-shadow: 0px 1px 2px rgba(60, 64, 67, 0.3), 0px 1px 3px 1px rgba(60, 64, 67, 0.15);\n",
              "      fill: #174EA6;\n",
              "    }\n",
              "\n",
              "    .colab-df-buttons div {\n",
              "      margin-bottom: 4px;\n",
              "    }\n",
              "\n",
              "    [theme=dark] .colab-df-convert {\n",
              "      background-color: #3B4455;\n",
              "      fill: #D2E3FC;\n",
              "    }\n",
              "\n",
              "    [theme=dark] .colab-df-convert:hover {\n",
              "      background-color: #434B5C;\n",
              "      box-shadow: 0px 1px 3px 1px rgba(0, 0, 0, 0.15);\n",
              "      filter: drop-shadow(0px 1px 2px rgba(0, 0, 0, 0.3));\n",
              "      fill: #FFFFFF;\n",
              "    }\n",
              "  </style>\n",
              "\n",
              "    <script>\n",
              "      const buttonEl =\n",
              "        document.querySelector('#df-09eff585-d0ff-401f-8ac5-7b91698ba364 button.colab-df-convert');\n",
              "      buttonEl.style.display =\n",
              "        google.colab.kernel.accessAllowed ? 'block' : 'none';\n",
              "\n",
              "      async function convertToInteractive(key) {\n",
              "        const element = document.querySelector('#df-09eff585-d0ff-401f-8ac5-7b91698ba364');\n",
              "        const dataTable =\n",
              "          await google.colab.kernel.invokeFunction('convertToInteractive',\n",
              "                                                    [key], {});\n",
              "        if (!dataTable) return;\n",
              "\n",
              "        const docLinkHtml = 'Like what you see? Visit the ' +\n",
              "          '<a target=\"_blank\" href=https://colab.research.google.com/notebooks/data_table.ipynb>data table notebook</a>'\n",
              "          + ' to learn more about interactive tables.';\n",
              "        element.innerHTML = '';\n",
              "        dataTable['output_type'] = 'display_data';\n",
              "        await google.colab.output.renderOutput(dataTable, element);\n",
              "        const docLink = document.createElement('div');\n",
              "        docLink.innerHTML = docLinkHtml;\n",
              "        element.appendChild(docLink);\n",
              "      }\n",
              "    </script>\n",
              "  </div>\n",
              "\n",
              "\n",
              "<div id=\"df-0e7b1b71-e602-44a4-ac3c-3dbe8291e40e\">\n",
              "  <button class=\"colab-df-quickchart\" onclick=\"quickchart('df-0e7b1b71-e602-44a4-ac3c-3dbe8291e40e')\"\n",
              "            title=\"Suggest charts\"\n",
              "            style=\"display:none;\">\n",
              "\n",
              "<svg xmlns=\"http://www.w3.org/2000/svg\" height=\"24px\"viewBox=\"0 0 24 24\"\n",
              "     width=\"24px\">\n",
              "    <g>\n",
              "        <path d=\"M19 3H5c-1.1 0-2 .9-2 2v14c0 1.1.9 2 2 2h14c1.1 0 2-.9 2-2V5c0-1.1-.9-2-2-2zM9 17H7v-7h2v7zm4 0h-2V7h2v10zm4 0h-2v-4h2v4z\"/>\n",
              "    </g>\n",
              "</svg>\n",
              "  </button>\n",
              "\n",
              "<style>\n",
              "  .colab-df-quickchart {\n",
              "      --bg-color: #E8F0FE;\n",
              "      --fill-color: #1967D2;\n",
              "      --hover-bg-color: #E2EBFA;\n",
              "      --hover-fill-color: #174EA6;\n",
              "      --disabled-fill-color: #AAA;\n",
              "      --disabled-bg-color: #DDD;\n",
              "  }\n",
              "\n",
              "  [theme=dark] .colab-df-quickchart {\n",
              "      --bg-color: #3B4455;\n",
              "      --fill-color: #D2E3FC;\n",
              "      --hover-bg-color: #434B5C;\n",
              "      --hover-fill-color: #FFFFFF;\n",
              "      --disabled-bg-color: #3B4455;\n",
              "      --disabled-fill-color: #666;\n",
              "  }\n",
              "\n",
              "  .colab-df-quickchart {\n",
              "    background-color: var(--bg-color);\n",
              "    border: none;\n",
              "    border-radius: 50%;\n",
              "    cursor: pointer;\n",
              "    display: none;\n",
              "    fill: var(--fill-color);\n",
              "    height: 32px;\n",
              "    padding: 0;\n",
              "    width: 32px;\n",
              "  }\n",
              "\n",
              "  .colab-df-quickchart:hover {\n",
              "    background-color: var(--hover-bg-color);\n",
              "    box-shadow: 0 1px 2px rgba(60, 64, 67, 0.3), 0 1px 3px 1px rgba(60, 64, 67, 0.15);\n",
              "    fill: var(--button-hover-fill-color);\n",
              "  }\n",
              "\n",
              "  .colab-df-quickchart-complete:disabled,\n",
              "  .colab-df-quickchart-complete:disabled:hover {\n",
              "    background-color: var(--disabled-bg-color);\n",
              "    fill: var(--disabled-fill-color);\n",
              "    box-shadow: none;\n",
              "  }\n",
              "\n",
              "  .colab-df-spinner {\n",
              "    border: 2px solid var(--fill-color);\n",
              "    border-color: transparent;\n",
              "    border-bottom-color: var(--fill-color);\n",
              "    animation:\n",
              "      spin 1s steps(1) infinite;\n",
              "  }\n",
              "\n",
              "  @keyframes spin {\n",
              "    0% {\n",
              "      border-color: transparent;\n",
              "      border-bottom-color: var(--fill-color);\n",
              "      border-left-color: var(--fill-color);\n",
              "    }\n",
              "    20% {\n",
              "      border-color: transparent;\n",
              "      border-left-color: var(--fill-color);\n",
              "      border-top-color: var(--fill-color);\n",
              "    }\n",
              "    30% {\n",
              "      border-color: transparent;\n",
              "      border-left-color: var(--fill-color);\n",
              "      border-top-color: var(--fill-color);\n",
              "      border-right-color: var(--fill-color);\n",
              "    }\n",
              "    40% {\n",
              "      border-color: transparent;\n",
              "      border-right-color: var(--fill-color);\n",
              "      border-top-color: var(--fill-color);\n",
              "    }\n",
              "    60% {\n",
              "      border-color: transparent;\n",
              "      border-right-color: var(--fill-color);\n",
              "    }\n",
              "    80% {\n",
              "      border-color: transparent;\n",
              "      border-right-color: var(--fill-color);\n",
              "      border-bottom-color: var(--fill-color);\n",
              "    }\n",
              "    90% {\n",
              "      border-color: transparent;\n",
              "      border-bottom-color: var(--fill-color);\n",
              "    }\n",
              "  }\n",
              "</style>\n",
              "\n",
              "  <script>\n",
              "    async function quickchart(key) {\n",
              "      const quickchartButtonEl =\n",
              "        document.querySelector('#' + key + ' button');\n",
              "      quickchartButtonEl.disabled = true;  // To prevent multiple clicks.\n",
              "      quickchartButtonEl.classList.add('colab-df-spinner');\n",
              "      try {\n",
              "        const charts = await google.colab.kernel.invokeFunction(\n",
              "            'suggestCharts', [key], {});\n",
              "      } catch (error) {\n",
              "        console.error('Error during call to suggestCharts:', error);\n",
              "      }\n",
              "      quickchartButtonEl.classList.remove('colab-df-spinner');\n",
              "      quickchartButtonEl.classList.add('colab-df-quickchart-complete');\n",
              "    }\n",
              "    (() => {\n",
              "      let quickchartButtonEl =\n",
              "        document.querySelector('#df-0e7b1b71-e602-44a4-ac3c-3dbe8291e40e button');\n",
              "      quickchartButtonEl.style.display =\n",
              "        google.colab.kernel.accessAllowed ? 'block' : 'none';\n",
              "    })();\n",
              "  </script>\n",
              "</div>\n",
              "\n",
              "  <div id=\"id_1ce5c435-bb1b-4a47-9f36-7153fcc80cca\">\n",
              "    <style>\n",
              "      .colab-df-generate {\n",
              "        background-color: #E8F0FE;\n",
              "        border: none;\n",
              "        border-radius: 50%;\n",
              "        cursor: pointer;\n",
              "        display: none;\n",
              "        fill: #1967D2;\n",
              "        height: 32px;\n",
              "        padding: 0 0 0 0;\n",
              "        width: 32px;\n",
              "      }\n",
              "\n",
              "      .colab-df-generate:hover {\n",
              "        background-color: #E2EBFA;\n",
              "        box-shadow: 0px 1px 2px rgba(60, 64, 67, 0.3), 0px 1px 3px 1px rgba(60, 64, 67, 0.15);\n",
              "        fill: #174EA6;\n",
              "      }\n",
              "\n",
              "      [theme=dark] .colab-df-generate {\n",
              "        background-color: #3B4455;\n",
              "        fill: #D2E3FC;\n",
              "      }\n",
              "\n",
              "      [theme=dark] .colab-df-generate:hover {\n",
              "        background-color: #434B5C;\n",
              "        box-shadow: 0px 1px 3px 1px rgba(0, 0, 0, 0.15);\n",
              "        filter: drop-shadow(0px 1px 2px rgba(0, 0, 0, 0.3));\n",
              "        fill: #FFFFFF;\n",
              "      }\n",
              "    </style>\n",
              "    <button class=\"colab-df-generate\" onclick=\"generateWithVariable('df')\"\n",
              "            title=\"Generate code using this dataframe.\"\n",
              "            style=\"display:none;\">\n",
              "\n",
              "  <svg xmlns=\"http://www.w3.org/2000/svg\" height=\"24px\"viewBox=\"0 0 24 24\"\n",
              "       width=\"24px\">\n",
              "    <path d=\"M7,19H8.4L18.45,9,17,7.55,7,17.6ZM5,21V16.75L18.45,3.32a2,2,0,0,1,2.83,0l1.4,1.43a1.91,1.91,0,0,1,.58,1.4,1.91,1.91,0,0,1-.58,1.4L9.25,21ZM18.45,9,17,7.55Zm-12,3A5.31,5.31,0,0,0,4.9,8.1,5.31,5.31,0,0,0,1,6.5,5.31,5.31,0,0,0,4.9,4.9,5.31,5.31,0,0,0,6.5,1,5.31,5.31,0,0,0,8.1,4.9,5.31,5.31,0,0,0,12,6.5,5.46,5.46,0,0,0,6.5,12Z\"/>\n",
              "  </svg>\n",
              "    </button>\n",
              "    <script>\n",
              "      (() => {\n",
              "      const buttonEl =\n",
              "        document.querySelector('#id_1ce5c435-bb1b-4a47-9f36-7153fcc80cca button.colab-df-generate');\n",
              "      buttonEl.style.display =\n",
              "        google.colab.kernel.accessAllowed ? 'block' : 'none';\n",
              "\n",
              "      buttonEl.onclick = () => {\n",
              "        google.colab.notebook.generateWithVariable('df');\n",
              "      }\n",
              "      })();\n",
              "    </script>\n",
              "  </div>\n",
              "\n",
              "    </div>\n",
              "  </div>\n"
            ],
            "application/vnd.google.colaboratory.intrinsic+json": {
              "type": "dataframe",
              "variable_name": "df",
              "summary": "{\n  \"name\": \"df\",\n  \"rows\": 10849,\n  \"fields\": [\n    {\n      \"column\": \"lat\",\n      \"properties\": {\n        \"dtype\": \"number\",\n        \"std\": 0.25383382522237713,\n        \"min\": 0.0,\n        \"max\": 1.0,\n        \"num_unique_values\": 1581,\n        \"samples\": [\n          0.5830388692579505,\n          0.748527679623086,\n          0.8839811542991753\n        ],\n        \"semantic_type\": \"\",\n        \"description\": \"\"\n      }\n    },\n    {\n      \"column\": \"lon\",\n      \"properties\": {\n        \"dtype\": \"number\",\n        \"std\": 0.2283382178211145,\n        \"min\": 0.0,\n        \"max\": 0.9999999999999998,\n        \"num_unique_values\": 3204,\n        \"samples\": [\n          0.4875705034468349,\n          0.1092542302068098,\n          0.6156256528096928\n        ],\n        \"semantic_type\": \"\",\n        \"description\": \"\"\n      }\n    },\n    {\n      \"column\": \"depth\",\n      \"properties\": {\n        \"dtype\": \"number\",\n        \"std\": 0.09286039307460012,\n        \"min\": 0.0,\n        \"max\": 1.0,\n        \"num_unique_values\": 381,\n        \"samples\": [\n          0.5133689839572192,\n          0.0949197860962566,\n          0.0935828877005347\n        ],\n        \"semantic_type\": \"\",\n        \"description\": \"\"\n      }\n    },\n    {\n      \"column\": \"mag\",\n      \"properties\": {\n        \"dtype\": \"number\",\n        \"std\": 0.14862472786821412,\n        \"min\": 0.0,\n        \"max\": 1.0,\n        \"num_unique_values\": 56,\n        \"samples\": [\n          0.3214285714285714,\n          0.6607142857142856,\n          0.767857142857143\n        ],\n        \"semantic_type\": \"\",\n        \"description\": \"\"\n      }\n    },\n    {\n      \"column\": \"remark\",\n      \"properties\": {\n        \"dtype\": \"number\",\n        \"std\": 294,\n        \"min\": 1,\n        \"max\": 1042,\n        \"num_unique_values\": 41,\n        \"samples\": [\n          121,\n          766,\n          748\n        ],\n        \"semantic_type\": \"\",\n        \"description\": \"\"\n      }\n    },\n    {\n      \"column\": \"cluster\",\n      \"properties\": {\n        \"dtype\": \"number\",\n        \"std\": 0,\n        \"min\": 0,\n        \"max\": 2,\n        \"num_unique_values\": 3,\n        \"samples\": [\n          1,\n          0,\n          2\n        ],\n        \"semantic_type\": \"\",\n        \"description\": \"\"\n      }\n    }\n  ]\n}"
            }
          },
          "metadata": {},
          "execution_count": 40
        }
      ]
    },
    {
      "cell_type": "markdown",
      "source": [
        "# **3. Data Splitting**"
      ],
      "metadata": {
        "id": "KkPem5eWL2UP"
      }
    },
    {
      "cell_type": "markdown",
      "source": [
        "Tahap Data Splitting bertujuan untuk memisahkan dataset menjadi dua bagian: data latih (training set) dan data uji (test set)."
      ],
      "metadata": {
        "id": "YYj1rl_JNI9Y"
      }
    },
    {
      "cell_type": "code",
      "source": [
        "# Memilih variabel dependen\n",
        "X = df.drop(columns=['cluster'])\n",
        "\n",
        "# Memilih variabel independen\n",
        "y = df['cluster']\n",
        "\n",
        "# Split data menjadi data latih dan data uji\n",
        "X_train, X_test, y_train, y_test = train_test_split(X, y, test_size=0.30, random_state=42)\n",
        "\n",
        "# Menampilkan bentuk data latih dan data uji\n",
        "print(f\"Training set shape: X_train={X_train.shape}, y_train={y_train.shape}\")\n",
        "print(f\"Test set shape: X_test={X_test.shape}, y_test={y_test.shape}\")"
      ],
      "metadata": {
        "id": "OubAW-7ONKVj",
        "colab": {
          "base_uri": "https://localhost:8080/"
        },
        "outputId": "5b6ec135-cd48-43e6-b334-38b2c0a8fd7b"
      },
      "execution_count": 41,
      "outputs": [
        {
          "output_type": "stream",
          "name": "stdout",
          "text": [
            "Training set shape: X_train=(7594, 5), y_train=(7594,)\n",
            "Test set shape: X_test=(3255, 5), y_test=(3255,)\n"
          ]
        }
      ]
    },
    {
      "cell_type": "markdown",
      "source": [
        "# **4. Membangun Model Klasifikasi**\n"
      ],
      "metadata": {
        "id": "IVPbB03CMhTT"
      }
    },
    {
      "cell_type": "markdown",
      "source": [
        "## **a. Membangun Model Klasifikasi**"
      ],
      "metadata": {
        "id": "Ned1pL9zMmBK"
      }
    },
    {
      "cell_type": "markdown",
      "source": [
        "Setelah memilih algoritma klasifikasi yang sesuai, langkah selanjutnya adalah melatih model menggunakan data latih.\n",
        "\n",
        "Berikut adalah rekomendasi tahapannya.\n",
        "1. Pilih algoritma klasifikasi yang sesuai, seperti Logistic Regression, Decision Tree, Random Forest, atau K-Nearest Neighbors (KNN).\n",
        "2. Latih model menggunakan data latih."
      ],
      "metadata": {
        "id": "WAWzPOE4Nkti"
      }
    },
    {
      "cell_type": "markdown",
      "source": [
        "Pada project ini, saya menggunakan algoritma algoritma **naive bayes** adalah algoritma **sederhana tapi memiliki akurasi yang tinggi** (Delvika et al., 2022) dan **cepat dalam pelatihan dan prediksi**,
        "\n"
      "metadata": {
        "id": "bNtIvHD3CZxq"
      }
    },
    {
      "cell_type": "code",
      "source": [
        "# Mendefinisikan model klasifikasi\n",
        "NB = GaussianNB().fit(X_train, y_train)\n",
        "\n",
        "y_pred_train_NB = NB.predict(X_train)  # Untuk Gaussian Naive Bayes\n",
        "accuracy_train_NB = accuracy_score(y_train, y_pred_train_NB)\n",
        "accuracy_train_NB"
      ],
      "metadata": {
        "id": "4JYxBe87NLDk",
        "colab": {
          "base_uri": "https://localhost:8080/"
        },
        "outputId": "30346524-b2a9-4aed-da86-44a7a819ce9e"
      },
      "execution_count": 42,
      "outputs": [
        {
          "output_type": "execute_result",
          "data": {
            "text/plain": [
              "0.9919673426389255"
            ]
          },
          "metadata": {},
          "execution_count": 42
        }
      ]
    },
    {
      "cell_type": "markdown",
      "source": [
        "## **b. Evaluasi Model Klasifikasi**"
      ],
      "metadata": {
        "id": "ergzChZFEL-O"
      }
    },
    {
      "cell_type": "markdown",
      "source": [
        "Berikut adalah **rekomendasi** tahapannya.\n",
        "1. Lakukan prediksi menggunakan data uji.\n",
        "2. Hitung metrik evaluasi seperti Accuracy dan F1-Score (Opsional: Precision dan Recall).\n",
        "3. Buat confusion matrix untuk melihat detail prediksi benar dan salah."
      ],
      "metadata": {
        "id": "zOm68u-7NpLT"
      }
    },
    {
      "cell_type": "code",
      "source": [
        "# Melakukan prediksi pada data testing\n",
        "y_pred_test = NB.predict(X_test)\n",
        "\n",
        "# Menghitung akurasi pada data testing\n",
        "accuracy = accuracy_score(y_test, y_pred_test)\n",
        "f_measure = f1_score(y_test, y_pred_test, average='weighted')\n",
        "precision = precision_score(y_test, y_pred_test, average='weighted')\n",
        "recall = recall_score(y_test, y_pred_test, average='weighted')\n",
        "\n",
        "# Menampilkan hasil akurasi pada data testing\n",
        "print(f'Akurasi: {accuracy * 100:.2f}%')\n",
        "print(f'F1 Score: {f_measure * 100:.2f}%')\n",
        "print(f'Precision: {precision * 100:.2f}%')\n",
        "print(f'Recall: {recall * 100:.2f}%')"
      ],
      "metadata": {
        "colab": {
          "base_uri": "https://localhost:8080/"
        },
        "id": "iekbn4QTLA5T",
        "outputId": "2f1e7b76-f19f-4abd-aeff-2279973b2f54"
      },
      "execution_count": 43,
      "outputs": [
        {
          "output_type": "stream",
          "name": "stdout",
          "text": [
            "Akurasi: 98.71%\n",
            "F1 Score: 98.71%\n",
            "Precision: 98.72%\n",
            "Recall: 98.71%\n"
          ]
        }
      ]
    },
    {
      "cell_type": "code",
      "source": [
        "# Menghitung confusion matrix\n",
        "cm = confusion_matrix(y_test, y_pred_test)\n",
        "\n",
        "# Membuat plot confusion matrix\n",
        "plt.figure(figsize=(6, 5))\n",
        "sns.heatmap(cm, annot=True, fmt='d', cmap='Blues', cbar=False)\n",
        "plt.title('Naive Bayes Confusion Matrix')\n",
        "plt.xlabel('Predicted')\n",
        "plt.ylabel('Actual')\n",
        "plt.show()"
      ],
      "metadata": {
        "colab": {
          "base_uri": "https://localhost:8080/",
          "height": 487
        },
        "id": "LWLBTjKaR5D6",
        "outputId": "f9e01147-0019-4ec9-d21d-722323d7c78a"
      },
      "execution_count": 44,
      "outputs": [
        {
          "output_type": "display_data",
          "data": {
            "text/plain": [
              "<Figure size 600x500 with 1 Axes>"
            ],
            "image/png": "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\n"
          },
          "metadata": {}
        }
      ]
    },
    {
      "cell_type": "markdown",
      "source": [
        "Hasil evaluasi setiap class:\n",
        "\n",
        "1. Class 0 (Gempa dangkal, mag besar).\n",
        " - 1100 TP yang berarti class terklasifikasi dengan tepat.\n",
        " - 9 FN,  gempa yang dangkal dan mag besar salah diklasifikasi ke class lain.\n",
        " - 24 FP, gempa yang bukan dangkal dan mag besar diklasifikasikan ke class 0.\n",
        " - 2122 TN, gempa yang bukan dangkal dan mag besar benar teridentifikasi sebagai bukan cluster 0.\n",
        "\n",
        "2. Class 1 (Gempa dalam, mag sedang)\n",
        " - 1303 TP yang berarti class terklasifikasi dengan tepat.\n",
        " - 24 FN, gempa yang dalam dan mag sedang salah diklasifikasi ke class lain.\n",
        " - 18 FP, gempa yang bukan dalam dan mag sedang diklasifikasikan ke class 1.\n",
        " - 1910 TN, gempa yang bukan dalam dan mag sedang benar teridentifikasi sebagai bukan cluster 1.\n",
        "\n",
        "3. Class 2 (Gempa menengah, mag rendah)\n",
        " - 810 TP yang berarti class terklasifikasi dengan tepat.\n",
        " - 9 FN, gempa yang dalam dan mag sedang salah diklasifikasi ke class lain.\n",
        " - 0 FP, gempa yang bukan dalam dan mag sedang diklasifikasikan ke class 2.\n",
        " - 2436 TN, gempa yang bukan dalam dan mag sedang benar teridentifikasi sebagai bukan cluster 2."
      ],
      "metadata": {
        "id": "H4_9OwrsXZlz"
      }
    },
    {
      "cell_type": "code",
      "source": [
        "from sklearn.metrics import classification_report\n",
        "\n",
        "\n",
        "# Menampilkan hasil  confusion matrix setiap class\n",
        "report = classification_report(y_test, y_pred_test, target_names=['Class 0', 'Class 1', 'Class 2'])\n",
        "print(report)\n"
      ],
      "metadata": {
        "colab": {
          "base_uri": "https://localhost:8080/"
        },
        "id": "CtH6J23aqvPT",
        "outputId": "3f0a24bd-6cbf-4e9c-f220-f11c8b24bf05"
      },
      "execution_count": 45,
      "outputs": [
        {
          "output_type": "stream",
          "name": "stdout",
          "text": [
            "              precision    recall  f1-score   support\n",
            "\n",
            "     Class 0       0.98      0.99      0.99      1109\n",
            "     Class 1       0.99      0.98      0.98      1327\n",
            "     Class 2       1.00      0.99      0.99       819\n",
            "\n",
            "    accuracy                           0.99      3255\n",
            "   macro avg       0.99      0.99      0.99      3255\n",
            "weighted avg       0.99      0.99      0.99      3255\n",
            "\n"
          ]
        }
      ]
    },
    {
      "cell_type": "markdown",
      "source": [
        "## **c. Tuning Model Klasifikasi (Optional)**"
      ],
      "metadata": {
        "id": "ph9yIYDXEPuB"
      }
    },
    {
      "cell_type": "markdown",
      "source": [
        "Gunakan GridSearchCV, RandomizedSearchCV, atau metode lainnya untuk mencari kombinasi hyperparameter terbaik"
      ],
      "metadata": {
        "id": "-Bikx3LINv5e"
      }
    },
    {
      "cell_type": "code",
      "source": [
        "# Definisikan ruang pencarian untuk Random Search\n",
        "param_dist = {\n",
        "    'var_smoothing': [1e-1, 1e-2, 1e-3, 1e-4, 1e-5, 1e-6, 1e-7, 1e-8, 1e-9, 1e-10]\n",
        "}\n",
        "\n",
        "# Inisialisasi RandomizedSearchCV\n",
        "random_search = RandomizedSearchCV(estimator=NB, param_distributions=param_dist, n_iter=20, cv=3, n_jobs=-1, verbose=2, random_state=42)\n",
        "random_search.fit(X_train, y_train)\n",
        "\n",
        "# Output hasil terbaik\n",
        "print(f\"Best parameters (Random Search): {random_search.best_params_}\")\n",
        "best_nb_random = random_search.best_estimator_"
      ],
      "metadata": {
        "colab": {
          "base_uri": "https://localhost:8080/"
        },
        "id": "CkQF2Z6nG1oC",
        "outputId": "5154da22-2270-477b-b5d2-1fd8345c550e"
      },
      "execution_count": 46,
      "outputs": [
        {
          "output_type": "stream",
          "name": "stdout",
          "text": [
            "Fitting 3 folds for each of 10 candidates, totalling 30 fits\n"
          ]
        },
        {
          "output_type": "stream",
          "name": "stderr",
          "text": [
            "/usr/local/lib/python3.10/dist-packages/sklearn/model_selection/_search.py:317: UserWarning: The total space of parameters 10 is smaller than n_iter=20. Running 10 iterations. For exhaustive searches, use GridSearchCV.\n",
            "  warnings.warn(\n"
          ]
        },
        {
          "output_type": "stream",
          "name": "stdout",
          "text": [
            "Best parameters (Random Search): {'var_smoothing': 0.1}\n"
          ]
        }
      ]
    },
    {
      "cell_type": "markdown",
      "source": [
        "Acuan nilai parameter https://www.ioinformatic.org/index.php/JUKI/article/view/472/306"
      ],
      "metadata": {
        "id": "-QvWsB9flekj"
      }
    },
    {
      "cell_type": "markdown",
      "source": [
        "## **d. Evaluasi Model Klasifikasi setelah Tuning (Optional)**"
      ],
      "metadata": {
        "id": "hE7pqlEPEYzI"
      }
    },
    {
      "cell_type": "markdown",
      "source": [
        "Berikut adalah rekomendasi tahapannya.\n",
        "1. Gunakan model dengan hyperparameter terbaik.\n",
        "2. Hitung ulang metrik evaluasi untuk melihat apakah ada peningkatan performa."
      ],
      "metadata": {
        "id": "feaPESoeN0zz"
      }
    },
    {
      "cell_type": "code",
      "source": [
        "# Evaluasi performa model pada test set\n",
        "random_search_score = best_nb_random.score(X_test, y_test)\n",
        "print(f\"Accuracy after Random Search: {random_search_score:.2f}\")"
      ],
      "metadata": {
        "id": "HTXZRvEeNMb1",
        "colab": {
          "base_uri": "https://localhost:8080/"
        },
        "outputId": "a90d0f26-7755-4663-9f43-3ba2d4765314"
      },
      "execution_count": 47,
      "outputs": [
        {
          "output_type": "stream",
          "name": "stdout",
          "text": [
            "Accuracy after Random Search: 1.00\n"
          ]
        }
      ]
    },
    {
      "cell_type": "markdown",
      "source": [
        "## **e. Analisis Hasil Evaluasi Model Klasifikasi**"
      ],
      "metadata": {
        "id": "ZRsOdm4uEgAW"
      }
    },
    {
      "cell_type": "markdown",
      "source": [
        "Berikut adalah **rekomendasi** tahapannya.\n",
        "1. Bandingkan hasil evaluasi sebelum dan setelah tuning (jika dilakukan).\n",
        "2. Identifikasi kelemahan model, seperti:\n",
        "  - Precision atau Recall rendah untuk kelas tertentu.\n",
        "  - Apakah model mengalami overfitting atau underfitting?\n",
        "3. Berikan rekomendasi tindakan lanjutan, seperti mengumpulkan data tambahan atau mencoba algoritma lain jika hasil belum memuaskan."
      ],
      "metadata": {
        "id": "Hm3BhSi6N4_l"
      }
    },
    {
      "cell_type": "markdown",
      "source": [
        "**Hasil analisis:**\n",
        "\n",
        "1. Hasil akurasi sebelum di-tuning adalah 98.71% dan setelah di-tuning adalah 100%, maka proses tuning berhasil meningkatkan akurasi model walaupun terlihat mencurigakan karena model sangat memahami data tanpa salah sekalipun.\n",
        "\n",
        "2. Model sebelum di-tuning menghasilkan akurasi 99% untuk data training dan 98% untuk data testing, karena selisihnya hanya sedikit maka bisa dikatakan kemungkinan besar tidak ada ada overfitting dan jumlah antar class juga tidak ada yang mendominasi.\n",
        "\n",
        "3. Saran untuk tindakan lanjutannya adalah mencoba algoritma baru dengan tambahan proses tuning dan menggunakan data testing yang baru dari sumber lain."
      ],
      "metadata": {
        "id": "3PFUkdPcrcPV"
      }
    },
    {
      "cell_type": "code",
      "source": [
        "train_sizes, train_scores, test_scores = learning_curve(NB, X, y, cv=5)\n",
        "\n",
        "plt.plot(train_sizes, train_scores.mean(axis=1), label='Training Score')\n",
        "plt.plot(train_sizes, test_scores.mean(axis=1), label='Validation Score')\n",
        "plt.legend()\n",
        "plt.xlabel('Training Size')\n",
        "plt.ylabel('Accuracy')\n",
        "plt.title('Learning Curve')\n",
        "plt.show()\n"
      ],
      "metadata": {
        "colab": {
          "base_uri": "https://localhost:8080/",
          "height": 472
        },
        "id": "5THKzWbFwVMM",
        "outputId": "e5e91673-b7ec-427a-8c31-ad4c59f9c764"
      },
      "execution_count": 48,
      "outputs": [
        {
          "output_type": "display_data",
          "data": {
            "text/plain": [
              "<Figure size 640x480 with 1 Axes>"
            ],
            "image/png": "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\n"
          },
          "metadata": {}
        }
      ]
    },
    {
      "cell_type": "code",
      "source": [
        "class_counts = df['cluster'].value_counts()\n",
        "print(class_counts)"
      ],
      "metadata": {
        "colab": {
          "base_uri": "https://localhost:8080/"
        },
        "id": "n-QyIYKRx7FE",
        "outputId": "0531b04f-d19f-4a4f-82cf-081fcbe9ec32"
      },
      "execution_count": 49,
      "outputs": [
        {
          "output_type": "stream",
          "name": "stdout",
          "text": [
            "cluster\n",
            "1    4383\n",
            "0    3634\n",
            "2    2832\n",
            "Name: count, dtype: int64\n"
          ]
        }
      ]
    }
  ]
}
